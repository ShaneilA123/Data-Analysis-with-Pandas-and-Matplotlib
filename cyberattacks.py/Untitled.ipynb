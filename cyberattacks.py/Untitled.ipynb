{
 "cells": [
  {
   "cell_type": "raw",
   "id": "213ff950-5925-4fe1-98e0-6f0175bd6bc5",
   "metadata": {},
   "source": [
    "import numpy as np\n",
    "import pandas as pd\n",
    "import matplotlib as plt\n",
    "import seaborn as sb"
   ]
  },
  {
   "cell_type": "code",
   "execution_count": null,
   "id": "e842a3d7-0b7c-438c-9e9d-db89bbcb1761",
   "metadata": {},
   "outputs": [],
   "source": [
    "df = pd.read_csv(\"all_res.csv\", encoding = \"unicode_escape\")\n"
   ]
  },
  {
   "cell_type": "code",
   "execution_count": null,
   "id": "5688acf1-c515-49b3-a1f0-78c764af49f0",
   "metadata": {},
   "outputs": [],
   "source": [
    "df.head()"
   ]
  },
  {
   "cell_type": "code",
   "execution_count": null,
   "id": "d3a96793-d5e0-4631-b91e-8c2aa94ec95e",
   "metadata": {},
   "outputs": [],
   "source": [
    "\n",
    "Date\tLocation\tVictim\tIndustry\tActor Location\tActor\tMotive\tType\tSub-Type\tYear\n",
    "0\t31/12/2022\tIran (Islamic Republic of)\tState-run Iranian Websites\tPublic Administration\tUndetermined\tUndetermined\tProtest\tDisruptive\tExternal Denial of Services\t2022\n",
    "1\t31/12/2022\tUnited States of America\tHousing Authority of the City of Los Angeles (...\tPublic Administration\tUndetermined\tLockBit 3.0\tFinancial\tExploitative\tUndetermined\t2022\n",
    "2\t30/12/2022\tPoland\tPolish Parliament\tPublic Administration\tRussian Federation\tNoName057(16)\tProtest\tDisruptive\tExternal Denial of Services\t2022\n",
    "3\t30/12/2022\tUnited States of America\tCentraState Healthcare System\tHealth Care and Social Assistance\tUndetermined\tUndetermined\tUndetermined\tDisruptive\tUndetermined\t2022\n",
    "4\t30/12/2022\tIran (Islamic Republic of)\tIran Airlines\tTransportation and Warehousing\tUkraine\trootkitsecurity\tProtest\tDisruptive\tExternal Denial of Services\t2022"
   ]
  },
  {
   "cell_type": "code",
   "execution_count": null,
   "id": "ee889aec-4faa-47a2-81bf-b712c85087a1",
   "metadata": {},
   "outputs": [],
   "source": [
    "df.info()"
   ]
  },
  {
   "cell_type": "code",
   "execution_count": null,
   "id": "5c95cc98-8af9-4874-8ea5-f272e34b5cc3",
   "metadata": {},
   "outputs": [],
   "source": [
    "<class 'pandas.core.frame.DataFrame'>\n",
    "RangeIndex: 10420 entries, 0 to 10419\n",
    "Data columns (total 10 columns):\n",
    " #   Column          Non-Null Count  Dtype \n",
    "---  ------          --------------  ----- \n",
    " 0   Date            10419 non-null  object\n",
    " 1   Location        10419 non-null  object\n",
    " 2   Victim          10419 non-null  object\n",
    " 3   Industry        10419 non-null  object\n",
    " 4   Actor Location  10416 non-null  object\n",
    " 5   Actor           10419 non-null  object\n",
    " 6   Motive          10419 non-null  object\n",
    " 7   Type            10419 non-null  object\n",
    " 8   Sub-Type        10415 non-null  object\n",
    " 9   Year            10420 non-null  object\n",
    "dtypes: object(10)\n",
    "memory usage: 814.2+ KB"
   ]
  },
  {
   "cell_type": "code",
   "execution_count": null,
   "id": "40d5f738-0ef8-4385-ad1b-7b957a4bb3a5",
   "metadata": {},
   "outputs": [],
   "source": [
    "df.tail()"
   ]
  },
  {
   "cell_type": "code",
   "execution_count": null,
   "id": "d09f8d89-9767-4a20-887c-8f57e76b4ff0",
   "metadata": {},
   "outputs": [],
   "source": [
    "\n",
    "Date\tLocation\tVictim\tIndustry\tActor Location\tActor\tMotive\tType\tSub-Type\tYear\n",
    "10415\t03/01/2014\tUnited States of America\tBattle.net\tInformation\tUndetermined\tDERP Trolling\tUndetermined\tDisruptive\tExternal Denial of Service\t2014\n",
    "10416\t03/01/2014\tUnited States of America\tOrigin\tInformation\tUndetermined\tDERP Trolling\tUndetermined\tDisruptive\tExternal Denial of Service\t2014\n",
    "10417\t03/01/2014\tMalaysia\tMalaysian Ministry of Education\tPublic Administration\tUndetermined\tEvil Shadow Team\tUndetermined\tDisruptive\tMessage Manipulation\t2014\n",
    "10418\t03/01/2014\tUnited States of America\tSteam\tInformation\tUndetermined\tUndetermined\tUndetermined\tDisruptive\tExternal Denial of Service\t2014\n",
    "10419\t03/01/2014\tAustralia\tFinancial Services Online\tFinance and Insurance\tPakistan\tPakiz Cyber Squad\tUndetermined\tExploitive\tExploitation of Application Server\t2014"
   ]
  },
  {
   "cell_type": "code",
   "execution_count": null,
   "id": "85777b40-aa35-485e-a14a-0638f8ada15e",
   "metadata": {},
   "outputs": [],
   "source": [
    "df.describe()"
   ]
  },
  {
   "cell_type": "code",
   "execution_count": null,
   "id": "0c7d4c48-033d-4354-b6bd-c00972ccfab9",
   "metadata": {},
   "outputs": [],
   "source": [
    "\n",
    "Date\tLocation\tVictim\tIndustry\tActor Location\tActor\tMotive\tType\tSub-Type\tYear\n",
    "count\t10419\t10419\t10419\t10419\t10416\t10419\t10419\t10419\t10415\t10420\n",
    "unique\t2767\t155\t9519\t21\t76\t956\t10\t5\t77\t11\n",
    "top\t27/06/2017\tUnited States of America\tCartoon Network\tPublic Administration\tUndetermined\tUndetermined\tFinancial\tExploitive\tExploitation of Application Server\t2022\n",
    "freq\t78\t5110\t14\t2021\t8269\t6472\t5781\t5397\t3616\t1918"
   ]
  },
  {
   "cell_type": "code",
   "execution_count": null,
   "id": "d123b581-4b65-4bb9-a012-985579846c1d",
   "metadata": {},
   "outputs": [],
   "source": [
    "#We counting each of the attacks and storing in the variable. trying to get the frequency\n",
    "base_color = sb.color_palette()[2]\n",
    "year_order = df[\"Year\"].value_counts().index\n",
    "location_order = df[\"Location\"].value_counts().index\n",
    "motive_order = df[\"Motive\"].value_counts().index\n",
    "industry_order = df[\"Industry\"].value_counts().index"
   ]
  },
  {
   "cell_type": "code",
   "execution_count": null,
   "id": "809434cd-5f2f-4689-9f5e-4b38d56a0b22",
   "metadata": {},
   "outputs": [],
   "source": [
    "#Attack Frequency by Year\n",
    "plt.figure(figsize=(20,8))\n",
    "plt.title(\"Attack Frequency by Year\")\n",
    "sb.countplot(data=df, y='Year', color=base_color, order=year_order)\n",
    "plt.xticks(rotation=45);"
   ]
  }
 ],
 "metadata": {
  "kernelspec": {
   "display_name": "Python 3 (ipykernel)",
   "language": "python",
   "name": "python3"
  },
  "language_info": {
   "codemirror_mode": {
    "name": "ipython",
    "version": 3
   },
   "file_extension": ".py",
   "mimetype": "text/x-python",
   "name": "python",
   "nbconvert_exporter": "python",
   "pygments_lexer": "ipython3",
   "version": "3.12.4"
  }
 },
 "nbformat": 4,
 "nbformat_minor": 5
}
